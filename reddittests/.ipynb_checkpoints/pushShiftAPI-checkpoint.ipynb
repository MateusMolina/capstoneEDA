{
 "cells": [
  {
   "cell_type": "markdown",
   "metadata": {},
   "source": [
    "### Uses the pushshift.io api to query submissions and comment frequency for a given term ###"
   ]
  },
  {
   "cell_type": "code",
   "execution_count": 1,
   "metadata": {},
   "outputs": [],
   "source": [
    "import requests\n",
    "import json\n",
    "\n",
    "%matplotlib inline"
   ]
  },
  {
   "cell_type": "code",
   "execution_count": 2,
   "metadata": {},
   "outputs": [],
   "source": [
    "# create comment and submissions url\n",
    "comment_url= \"https://api.pushshift.io/reddit/search/comment/\"\n",
    "subm_url= \"https://api.pushshift.io/reddit/search/submission/\""
   ]
  },
  {
   "cell_type": "code",
   "execution_count": 3,
   "metadata": {},
   "outputs": [],
   "source": [
    "search_terms= ['machine learning']#, 'artificial intelligence']"
   ]
  },
  {
   "cell_type": "code",
   "execution_count": 4,
   "metadata": {},
   "outputs": [],
   "source": [
    "for term in search_terms:\n",
    "    comm_json= requests.get(f\"{comment_url}?q={term}&aggs=created_utc&frequency=day&size=0\")\n",
    "    subm_json= requests.get(f\"{subm_url}?q={term}&aggs=created_utc&frequency=day&size=0\")"
   ]
  },
  {
   "cell_type": "code",
   "execution_count": 6,
   "metadata": {},
   "outputs": [],
   "source": [
    "comm_data=json.loads(comm_json.content)\n",
    "subm_data=json.loads(subm_json.content)"
   ]
  },
  {
   "cell_type": "code",
   "execution_count": 7,
   "metadata": {},
   "outputs": [],
   "source": [
    "comm_data= comm_data['aggs']['created_utc']\n",
    "subm_data= subm_data['aggs']['created_utc']"
   ]
  },
  {
   "cell_type": "code",
   "execution_count": 8,
   "metadata": {},
   "outputs": [],
   "source": [
    "comm_dict={\n",
    "    \"day\":[ x['key'] for x in comm_data],\n",
    "    \"count\":[x['doc_count'] for x in comm_data],\n",
    "    \"source\":\"reddit/comments\"}\n",
    "subm_dict={\n",
    "    \"day\":[ x['key'] for x in subm_data],\n",
    "    \"count\":[x['doc_count'] for x in subm_data],\n",
    "    \"source\":\"reddit/comments\"}"
   ]
  },
  {
   "cell_type": "code",
   "execution_count": 9,
   "metadata": {},
   "outputs": [],
   "source": [
    "import pandas as pd"
   ]
  },
  {
   "cell_type": "code",
   "execution_count": 16,
   "metadata": {},
   "outputs": [],
   "source": [
    "comm_df= pd.DataFrame(comm_dict)\n",
    "\n",
    "comm_df.day=pd.to_datetime(comm_df.day, unit='s') \n",
    "\n",
    "# comm_df= comm_df.query(\"count > 0\")\n",
    "\n",
    "# comm_df.plot(\"day\", \"count\")"
   ]
  },
  {
   "cell_type": "code",
   "execution_count": 17,
   "metadata": {
    "scrolled": true
   },
   "outputs": [],
   "source": [
    "subm_df= pd.DataFrame(subm_dict)\n",
    "\n",
    "subm_df.day=pd.to_datetime(subm_df.day, unit='s') \n",
    "\n",
    "# subm_df= subm_df.query(\"count > 0\")\n",
    "\n",
    "# subm_df.plot(\"day\", \"count\")"
   ]
  },
  {
   "cell_type": "code",
   "execution_count": null,
   "metadata": {},
   "outputs": [],
   "source": [
    "tot_df=comm_df.merge(subm_df, on='day')\n",
    "tot_df['tot_count']=tot_df['count_x']+tot_df['count_y']"
   ]
  },
  {
   "cell_type": "code",
   "execution_count": 29,
   "metadata": {},
   "outputs": [
    {
     "data": {
      "text/plain": [
       "<matplotlib.axes._subplots.AxesSubplot at 0x12a8ff30>"
      ]
     },
     "execution_count": 29,
     "metadata": {},
     "output_type": "execute_result"
    },
    {
     "data": {
      "image/png": "[encoded data removed]",
      "text/plain": [
       "<Figure size 432x288 with 1 Axes>"
      ]
     },
     "metadata": {},
     "output_type": "display_data"
    }
   ],
   "source": [
    "tot_df.plot(\"day\", \"tot_count\")"
   ]
  },
  {
   "cell_type": "code",
   "execution_count": 31,
   "metadata": {},
   "outputs": [
    {
     "data": {
      "text/html": [
       "<div>\n",
       "<style scoped>\n",
       "    .dataframe tbody tr th:only-of-type {\n",
       "        vertical-align: middle;\n",
       "    }\n",
       "\n",
       "    .dataframe tbody tr th {\n",
       "        vertical-align: top;\n",
       "    }\n",
       "\n",
       "    .dataframe thead th {\n",
       "        text-align: right;\n",
       "    }\n",
       "</style>\n",
       "<table border=\"1\" class=\"dataframe\">\n",
       "  <thead>\n",
       "    <tr style=\"text-align: right;\">\n",
       "      <th></th>\n",
       "      <th>day</th>\n",
       "      <th>count_x</th>\n",
       "      <th>source_x</th>\n",
       "      <th>count_y</th>\n",
       "      <th>source_y</th>\n",
       "      <th>tot_count</th>\n",
       "    </tr>\n",
       "  </thead>\n",
       "  <tbody>\n",
       "    <tr>\n",
       "      <th>0</th>\n",
       "      <td>2006-02-03</td>\n",
       "      <td>0</td>\n",
       "      <td>reddit/comments</td>\n",
       "      <td>1</td>\n",
       "      <td>reddit/comments</td>\n",
       "      <td>1</td>\n",
       "    </tr>\n",
       "    <tr>\n",
       "      <th>1</th>\n",
       "      <td>2006-02-04</td>\n",
       "      <td>0</td>\n",
       "      <td>reddit/comments</td>\n",
       "      <td>0</td>\n",
       "      <td>reddit/comments</td>\n",
       "      <td>0</td>\n",
       "    </tr>\n",
       "    <tr>\n",
       "      <th>2</th>\n",
       "      <td>2006-02-05</td>\n",
       "      <td>0</td>\n",
       "      <td>reddit/comments</td>\n",
       "      <td>0</td>\n",
       "      <td>reddit/comments</td>\n",
       "      <td>0</td>\n",
       "    </tr>\n",
       "    <tr>\n",
       "      <th>3</th>\n",
       "      <td>2006-02-06</td>\n",
       "      <td>0</td>\n",
       "      <td>reddit/comments</td>\n",
       "      <td>0</td>\n",
       "      <td>reddit/comments</td>\n",
       "      <td>0</td>\n",
       "    </tr>\n",
       "    <tr>\n",
       "      <th>4</th>\n",
       "      <td>2006-02-07</td>\n",
       "      <td>0</td>\n",
       "      <td>reddit/comments</td>\n",
       "      <td>0</td>\n",
       "      <td>reddit/comments</td>\n",
       "      <td>0</td>\n",
       "    </tr>\n",
       "  </tbody>\n",
       "</table>\n",
       "</div>"
      ],
      "text/plain": [
       "         day  count_x         source_x  count_y         source_y  tot_count\n",
       "0 2006-02-03        0  reddit/comments        1  reddit/comments          1\n",
       "1 2006-02-04        0  reddit/comments        0  reddit/comments          0\n",
       "2 2006-02-05        0  reddit/comments        0  reddit/comments          0\n",
       "3 2006-02-06        0  reddit/comments        0  reddit/comments          0\n",
       "4 2006-02-07        0  reddit/comments        0  reddit/comments          0"
      ]
     },
     "execution_count": 31,
     "metadata": {},
     "output_type": "execute_result"
    }
   ],
   "source": [
    "tot_df.head()"
   ]
  },
  {
   "cell_type": "markdown",
   "metadata": {},
   "source": [
    "## Now I'm going to combine these steps into a function that can take al keyword, query the api, and return a DF with all the good info ##"
   ]
  },
  {
   "cell_type": "code",
   "execution_count": 39,
   "metadata": {},
   "outputs": [],
   "source": [
    "def pushshift_to_the_limit(search_term):\n",
    "    \n",
    "    '''Requires pandas, requests and json library. Aggregates mentions of search term on Reddit thru comments and submissions'''\n",
    "    \n",
    "    comment_url= \"https://api.pushshift.io/reddit/search/comment/\"\n",
    "    subm_url= \"https://api.pushshift.io/reddit/search/submission/\"\n",
    "    \n",
    "    comm_json= requests.get(f\"{comment_url}?q={search_term}&aggs=created_utc&frequency=day&size=0\")\n",
    "    subm_json= requests.get(f\"{subm_url}?q={search_term}&aggs=created_utc&frequency=day&size=0\")\n",
    "    comm_data=json.loads(comm_json.content)['aggs']['created_utc']\n",
    "    subm_data=json.loads(subm_json.content)['aggs']['created_utc'] ##Now the data are in array format\n",
    "    \n",
    "    # Organize the responses into dicts, to load to pandas\n",
    "    \n",
    "    comm_dict={\n",
    "        \"day\":[ x['key'] for x in comm_data],\n",
    "        f\"comments\":[x['doc_count'] for x in comm_data],\n",
    "    }\n",
    "    subm_dict={\n",
    "        \"day\":[ x['key'] for x in subm_data],\n",
    "        f\"submissions\":[x['doc_count'] for x in subm_data],\n",
    "    }\n",
    "    \n",
    "    comm_df= pd.DataFrame(comm_dict)\n",
    "    comm_df.day=pd.to_datetime(comm_df.day, unit='s') \n",
    "    \n",
    "    subm_df= pd.DataFrame(subm_dict)\n",
    "    subm_df.day=pd.to_datetime(subm_df.day, unit='s') \n",
    "    \n",
    "    tot_df=comm_df.merge(subm_df, on='day', how='outer').fillna(0)\n",
    "    \n",
    "    tot_df['total']=tot_df['comments']+tot_df['submissions']\n",
    "    \n",
    "    return tot_df"
   ]
  },
  {
   "cell_type": "code",
   "execution_count": 43,
   "metadata": {},
   "outputs": [],
   "source": [
    "crspr_df=pushshift_to_the_limit('crispr')"
   ]
  },
  {
   "cell_type": "code",
   "execution_count": 46,
   "metadata": {},
   "outputs": [
    {
     "data": {
      "text/plain": [
       "<matplotlib.axes._subplots.AxesSubplot at 0x12a8fa30>"
      ]
     },
     "execution_count": 46,
     "metadata": {},
     "output_type": "execute_result"
    },
    {
     "data": {
      "image/png": "[encoded data removed]",
      "text/plain": [
       "<Figure size 432x288 with 1 Axes>"
      ]
     },
     "metadata": {},
     "output_type": "display_data"
    }
   ],
   "source": [
    "crspr_df.plot('day', 'total')"
   ]
  },
  {
   "cell_type": "code",
   "execution_count": 45,
   "metadata": {},
   "outputs": [
    {
     "data": {
      "text/html": [
       "<div>\n",
       "<style scoped>\n",
       "    .dataframe tbody tr th:only-of-type {\n",
       "        vertical-align: middle;\n",
       "    }\n",
       "\n",
       "    .dataframe tbody tr th {\n",
       "        vertical-align: top;\n",
       "    }\n",
       "\n",
       "    .dataframe thead th {\n",
       "        text-align: right;\n",
       "    }\n",
       "</style>\n",
       "<table border=\"1\" class=\"dataframe\">\n",
       "  <thead>\n",
       "    <tr style=\"text-align: right;\">\n",
       "      <th></th>\n",
       "      <th>day</th>\n",
       "      <th>comments</th>\n",
       "      <th>submissions</th>\n",
       "      <th>total</th>\n",
       "    </tr>\n",
       "  </thead>\n",
       "  <tbody>\n",
       "    <tr>\n",
       "      <th>0</th>\n",
       "      <td>2010-04-26</td>\n",
       "      <td>1</td>\n",
       "      <td>0.0</td>\n",
       "      <td>1.0</td>\n",
       "    </tr>\n",
       "    <tr>\n",
       "      <th>1</th>\n",
       "      <td>2010-04-27</td>\n",
       "      <td>0</td>\n",
       "      <td>0.0</td>\n",
       "      <td>0.0</td>\n",
       "    </tr>\n",
       "    <tr>\n",
       "      <th>2</th>\n",
       "      <td>2010-04-28</td>\n",
       "      <td>0</td>\n",
       "      <td>0.0</td>\n",
       "      <td>0.0</td>\n",
       "    </tr>\n",
       "    <tr>\n",
       "      <th>3</th>\n",
       "      <td>2010-04-29</td>\n",
       "      <td>0</td>\n",
       "      <td>0.0</td>\n",
       "      <td>0.0</td>\n",
       "    </tr>\n",
       "    <tr>\n",
       "      <th>4</th>\n",
       "      <td>2010-04-30</td>\n",
       "      <td>0</td>\n",
       "      <td>0.0</td>\n",
       "      <td>0.0</td>\n",
       "    </tr>\n",
       "  </tbody>\n",
       "</table>\n",
       "</div>"
      ],
      "text/plain": [
       "         day  comments  submissions  total\n",
       "0 2010-04-26         1          0.0    1.0\n",
       "1 2010-04-27         0          0.0    0.0\n",
       "2 2010-04-28         0          0.0    0.0\n",
       "3 2010-04-29         0          0.0    0.0\n",
       "4 2010-04-30         0          0.0    0.0"
      ]
     },
     "execution_count": 45,
     "metadata": {},
     "output_type": "execute_result"
    }
   ],
   "source": [
    "crspr_df.head()"
   ]
  }
 ],
 "metadata": {
  "kernelspec": {
   "display_name": "Python 3",
   "language": "python",
   "name": "python3"
  },
  "language_info": {
   "codemirror_mode": {
    "name": "ipython",
    "version": 3
   },
   "file_extension": ".py",
   "mimetype": "text/x-python",
   "name": "python",
   "nbconvert_exporter": "python",
   "pygments_lexer": "ipython3",
   "version": "3.6.5"
  }
 },
 "nbformat": 4,
 "nbformat_minor": 2
}
