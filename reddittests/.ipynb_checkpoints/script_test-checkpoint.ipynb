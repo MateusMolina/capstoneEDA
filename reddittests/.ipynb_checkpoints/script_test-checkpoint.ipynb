{
 "cells": [
  {
   "cell_type": "code",
   "execution_count": 1,
   "metadata": {},
   "outputs": [],
   "source": [
    "import praw\n",
    "import pandas as pd\n",
    "import datetime as dt\n",
    "\n",
    "import matplotlib.pyplot as plt"
   ]
  },
  {
   "cell_type": "code",
   "execution_count": 4,
   "metadata": {},
   "outputs": [],
   "source": [
    "personal_use_script= \"CFUpq6Ez7F-WYw\"\n",
    "api_key= \"fkoX_-5-jdWdeRQLjIyf3WLZzzA\""
   ]
  },
  {
   "cell_type": "code",
   "execution_count": 5,
   "metadata": {},
   "outputs": [],
   "source": [
    "reddit= praw.Reddit(client_id= personal_use_script,\n",
    "                   client_secret= api_key,\n",
    "                   user_agent= 'tech_maven',\n",
    "                   username= 'Rieux_n_Tarrou',\n",
    "                   password= 'Abd48891!')"
   ]
  },
  {
   "cell_type": "code",
   "execution_count": 6,
   "metadata": {},
   "outputs": [],
   "source": [
    "subreddit= reddit.subreddit('technology')"
   ]
  },
  {
   "cell_type": "code",
   "execution_count": 78,
   "metadata": {},
   "outputs": [],
   "source": [
    "ml_tech= subreddit.search('title:machine learning OR artificial intelligence', limit= 5)"
   ]
  },
  {
   "cell_type": "code",
   "execution_count": 79,
   "metadata": {},
   "outputs": [],
   "source": [
    "ml_dict2={\n",
    "    \"postdate\":[],\n",
    "    \"id\":[],\n",
    "    \n",
    "    \"source\":\"reddit.technology\"\n",
    "}"
   ]
  },
  {
   "cell_type": "code",
   "execution_count": 80,
   "metadata": {},
   "outputs": [],
   "source": [
    "for submission in ml_tech:\n",
    "    ml_dict2['postdate'].append(submission.created)\n",
    "    ml_dict2['id'].append(submission.id)"
   ]
  },
  {
   "cell_type": "code",
   "execution_count": 81,
   "metadata": {},
   "outputs": [],
   "source": [
    "reddit_df2=pd.DataFrame(ml_dict2)"
   ]
  }
 ],
 "metadata": {
  "kernelspec": {
   "display_name": "Python 3",
   "language": "python",
   "name": "python3"
  },
  "language_info": {
   "codemirror_mode": {
    "name": "ipython",
    "version": 3
   },
   "file_extension": ".py",
   "mimetype": "text/x-python",
   "name": "python",
   "nbconvert_exporter": "python",
   "pygments_lexer": "ipython3",
   "version": "3.6.5"
  }
 },
 "nbformat": 4,
 "nbformat_minor": 2
}
