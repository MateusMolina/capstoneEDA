{
 "cells": [
  {
   "cell_type": "markdown",
   "metadata": {},
   "source": [
    "### Hello. This notebook will be exploring some preliminary data sets.###\n",
    "**In case you're wondering, my project is going to be tracking (and predicting) breakthrough technologies by modeling technology mentions in Academic Journals, Popular Media, and Job Postings . Enjoy!**"
   ]
  },
  {
   "cell_type": "code",
   "execution_count": 1,
   "metadata": {},
   "outputs": [],
   "source": [
    "import pandas as pd\n",
    "import re\n",
    "import matplotlib.pyplot as plt\n",
    "%matplotlib inline"
   ]
  },
  {
   "cell_type": "markdown",
   "metadata": {},
   "source": [
    "**In this preliminary exploration I will only be looking at mentions of \"Machine Learning\" or \"ML\"**"
   ]
  },
  {
   "cell_type": "code",
   "execution_count": 3,
   "metadata": {},
   "outputs": [
    {
     "name": "stdout",
     "output_type": "stream",
     "text": [
      "<class 'pandas.core.frame.DataFrame'>\n",
      "RangeIndex: 22000 entries, 0 to 21999\n",
      "Data columns (total 14 columns):\n",
      "company                21996 non-null object\n",
      "education              20004 non-null object\n",
      "experience             21996 non-null object\n",
      "industry               21995 non-null object\n",
      "jobdescription         21996 non-null object\n",
      "jobid                  22000 non-null int64\n",
      "joblocation_address    21499 non-null object\n",
      "jobtitle               22000 non-null object\n",
      "numberofpositions      4464 non-null float64\n",
      "payrate                21903 non-null object\n",
      "postdate               21977 non-null object\n",
      "site_name              3987 non-null object\n",
      "skills                 21472 non-null object\n",
      "uniq_id                22000 non-null object\n",
      "dtypes: float64(1), int64(1), object(12)\n",
      "memory usage: 2.3+ MB\n"
     ]
    }
   ],
   "source": [
    "# The first prelim dataset is from naukri: \n",
    "jobs= pd.read_csv('./data/NaukriJobs_kaggle/naukri_com-job_sample.csv')\n",
    "\n",
    "jobs.info()\n",
    "# I am interested in the Launch Date, the Course Title, \n",
    "\n",
    "#Have to look at the range of dates, for sampling purposes\n",
    "# jobs['postdate'].sort_values()"
   ]
  },
  {
   "cell_type": "markdown",
   "metadata": {},
   "source": [
    "## Naukri Date Ranges: 1/2015 - 1/2017"
   ]
  },
  {
   "cell_type": "code",
   "execution_count": 4,
   "metadata": {},
   "outputs": [],
   "source": [
    "# Curtesy of \n",
    "#https://stackoverflow.com/questions/842856/whats-the-most-efficient-way-to-find-one-of-several-substrings-in-python\n",
    "\n",
    "def wordlist_to_regex(words):\n",
    "    escaped = map(re.escape, words)\n",
    "    combined= '|'.join(sorted(escaped, key=len, reverse=True))\n",
    "    return re.compile(combined)"
   ]
  },
  {
   "cell_type": "code",
   "execution_count": 5,
   "metadata": {},
   "outputs": [],
   "source": [
    "mlwords=[' Virtual Reality ', \n",
    "         ' Augmented Reality ']\n",
    "myregs= wordlist_to_regex(mlwords)"
   ]
  },
  {
   "cell_type": "code",
   "execution_count": 6,
   "metadata": {},
   "outputs": [],
   "source": [
    "wordmatch_mask=[myregs.search(s.lower()) != None for s in jobs['jobdescription'] if isinstance(s, str)]"
   ]
  },
  {
   "cell_type": "code",
   "execution_count": null,
   "metadata": {
    "scrolled": true
   },
   "outputs": [],
   "source": [
    "jobs.columns"
   ]
  },
  {
   "cell_type": "code",
   "execution_count": 7,
   "metadata": {},
   "outputs": [],
   "source": [
    "# If I decide to update the schema, might include some of ^^ these as well\n",
    "mljobs=jobs.loc[wordmatch_mask,['postdate', 'jobdescription', 'jobtitle', 'skills', 'uniq_id']]"
   ]
  },
  {
   "cell_type": "markdown",
   "metadata": {},
   "source": [
    "## Naukri has zero jobs with AR/VR ##"
   ]
  },
  {
   "cell_type": "markdown",
   "metadata": {},
   "source": [
    "## The Schema I want: ##\n",
    "\n",
    "**Date, id, source**"
   ]
  },
  {
   "cell_type": "markdown",
   "metadata": {},
   "source": [
    "## Ok that was the first dataset. Let's try loading some more...##\n",
    "\n",
    "**The PushShift API provides a nice aggregator for Reddit, so it makes my job easy for that site!**\n"
   ]
  },
  {
   "cell_type": "code",
   "execution_count": 12,
   "metadata": {},
   "outputs": [],
   "source": [
    "import requests, json\n",
    "\n",
    "def pushshift_to_the_limit(search_term):\n",
    "    \n",
    "    '''Requires pandas, requests and json library. Aggregates mentions of search term on Reddit thru comments and submissions'''\n",
    "    \n",
    "    comment_url= \"https://api.pushshift.io/reddit/search/comment/\"\n",
    "    subm_url= \"https://api.pushshift.io/reddit/search/submission/\"\n",
    "    \n",
    "    comm_json= requests.get(f\"{comment_url}?q={search_term}&aggs=created_utc&frequency=day&size=0\")\n",
    "    subm_json= requests.get(f\"{subm_url}?q={search_term}&aggs=created_utc&frequency=day&size=0\")\n",
    "    comm_data=json.loads(comm_json.content)['aggs']['created_utc']\n",
    "    subm_data=json.loads(subm_json.content)['aggs']['created_utc'] ##Now the data are in array format\n",
    "    \n",
    "    # Organize the responses into dicts, to load to pandas\n",
    "    \n",
    "    comm_dict={\n",
    "        \"day\":[ x['key'] for x in comm_data],\n",
    "        f\"comments\":[x['doc_count'] for x in comm_data],\n",
    "    }\n",
    "    subm_dict={\n",
    "        \"day\":[ x['key'] for x in subm_data],\n",
    "        f\"submissions\":[x['doc_count'] for x in subm_data],\n",
    "    }\n",
    "    \n",
    "    comm_df= pd.DataFrame(comm_dict)\n",
    "    comm_df.day=pd.to_datetime(comm_df.day, unit='s') \n",
    "    \n",
    "    subm_df= pd.DataFrame(subm_dict)\n",
    "    subm_df.day=pd.to_datetime(subm_df.day, unit='s') \n",
    "    \n",
    "    tot_df=comm_df.merge(subm_df, on='day', how='outer').fillna(0)\n",
    "    \n",
    "    tot_df['total']=tot_df['comments']+tot_df['submissions']\n",
    "    \n",
    "    return tot_df"
   ]
  },
  {
   "cell_type": "code",
   "execution_count": 13,
   "metadata": {
    "scrolled": false
   },
   "outputs": [
    {
     "data": {
      "text/plain": [
       "<matplotlib.axes._subplots.AxesSubplot at 0x7f7161c2b3c8>"
      ]
     },
     "execution_count": 13,
     "metadata": {},
     "output_type": "execute_result"
    },
    {
     "data": {
      "image/png": "[encoded data removed]",
      "text/plain": [
       "<Figure size 432x288 with 1 Axes>"
      ]
     },
     "metadata": {
      "needs_background": "light"
     },
     "output_type": "display_data"
    }
   ],
   "source": [
    "vr_df=pushshift_to_the_limit('virtual reality')\n",
    "vr_df.plot('day', 'total')"
   ]
  },
  {
   "cell_type": "code",
   "execution_count": 15,
   "metadata": {
    "scrolled": false
   },
   "outputs": [
    {
     "data": {
      "text/plain": [
       "<matplotlib.axes._subplots.AxesSubplot at 0x7f7179d52c50>"
      ]
     },
     "execution_count": 15,
     "metadata": {},
     "output_type": "execute_result"
    },
    {
     "data": {
      "image/png": "[encoded data removed]",
      "text/plain": [
       "<Figure size 432x288 with 1 Axes>"
      ]
     },
     "metadata": {
      "needs_background": "light"
     },
     "output_type": "display_data"
    }
   ],
   "source": [
    "ar_df=pushshift_to_the_limit('augmented reality')\n",
    "ar_df.plot('day', 'total')"
   ]
  },
  {
   "cell_type": "code",
   "execution_count": 16,
   "metadata": {},
   "outputs": [],
   "source": [
    "ar_df.to_csv('./cleaned_data/reddit_augmented_reality.csv')\n",
    "vr_df.to_csv('./cleaned_data/reddit_virtual_reality.csv')"
   ]
  },
  {
   "cell_type": "markdown",
   "metadata": {},
   "source": [
    "## Interesting to compare and contrast the two... ##\n",
    "\n",
    "**OK so we've looked (preliminarily) at Job postings and social mentions. How about academic literature?**"
   ]
  },
  {
   "cell_type": "markdown",
   "metadata": {},
   "source": [
    "### Scratch that. [Scholarly](https://pypi.org/project/scholarly/0.2/) is a nice api, but it doesn't provide a key field, date, easily ###\n",
    "**You have to .fill() the generator it returns, which takes a long time, is expensive, and causes 403 forbidden errors quite a bit. _Note to future self: modify the source code to return date with the first call_**"
   ]
  },
  {
   "cell_type": "code",
   "execution_count": 17,
   "metadata": {},
   "outputs": [],
   "source": [
    "#instead let's focus on a nice easy-to-use api: arXiv\n",
    "import urllib\n",
    "import time\n",
    "import feedparser"
   ]
  },
  {
   "cell_type": "code",
   "execution_count": 19,
   "metadata": {},
   "outputs": [],
   "source": [
    "def arx_and_recreation(search_term, start_idx, scope='ti'):\n",
    "    '''uses urllib, time, and feedparser'''\n",
    "    #first escape search terms\n",
    "    search_term= search_term.replace('\"',\"%22\").replace(\" \", \"+\");\n",
    "    # set wait time and iteration step\n",
    "    iterstep= 200;\n",
    "    wait_time= 2 #make this 3 to 'play nice' with the api. I am nice I promise! but impatient atm\n",
    "    base_url = 'http://export.arxiv.org/api/query?'\n",
    "    start= start_idx\n",
    "    date_dict={\n",
    "        \"date\":[],\n",
    "        \"article_id\": [],\n",
    "        \"source\": \"arXiv\"\n",
    "    }\n",
    "    while True:\n",
    "        response= urllib.request.urlopen(base_url+f\"search_query={scope}:{search_term}&sortBy=submittedDate&sortOrder=ascending&start={start}&max_results={iterstep}\")\n",
    "        feed= feedparser.parse(response)\n",
    "        if not feed.entries:\n",
    "            print('query complete')\n",
    "            print(f\"There should be {feed.feed.opensearch_totalresults} results?\")\n",
    "            break\n",
    "        date_dict['date'].extend([entry.published for entry in feed.entries])\n",
    "        date_dict['article_id'].extend([entry.id.split('/abs/')[-1] for entry in feed.entries])\n",
    "        print(f\"gathering results {start} to {start + iterstep-1} \")\n",
    "        start = start + iterstep\n",
    "        time.sleep(wait_time)\n",
    "        \n",
    "    return pd.DataFrame(date_dict)\n",
    "        \n",
    "    "
   ]
  },
  {
   "cell_type": "code",
   "execution_count": 21,
   "metadata": {},
   "outputs": [
    {
     "name": "stdout",
     "output_type": "stream",
     "text": [
      "gathering results 0 to 199 \n",
      "gathering results 200 to 399 \n",
      "query complete\n",
      "There should be 339 results?\n"
     ]
    }
   ],
   "source": [
    "test_ar = arx_and_recreation('\"virtual reality\" OR \"augmented reality\"',0)"
   ]
  },
  {
   "cell_type": "code",
   "execution_count": 23,
   "metadata": {},
   "outputs": [
    {
     "data": {
      "image/png": "[encoded data removed]",
      "text/plain": [
       "<Figure size 432x288 with 1 Axes>"
      ]
     },
     "metadata": {
      "needs_background": "light"
     },
     "output_type": "display_data"
    }
   ],
   "source": [
    "test_ar['date'] = pd.to_datetime(test_ar['date'])\n",
    "test_ar.set_index('date', inplace=True)\n",
    "plt.plot(test_ar.resample('M').count());"
   ]
  },
  {
   "cell_type": "code",
   "execution_count": 24,
   "metadata": {},
   "outputs": [],
   "source": [
    "test_ar.to_csv('./cleaned_data/arXiv_aug_virt_reality.csv')"
   ]
  }
 ],
 "metadata": {
  "kernelspec": {
   "display_name": "Python 3",
   "language": "python",
   "name": "python3"
  },
  "language_info": {
   "codemirror_mode": {
    "name": "ipython",
    "version": 3
   },
   "file_extension": ".py",
   "mimetype": "text/x-python",
   "name": "python",
   "nbconvert_exporter": "python",
   "pygments_lexer": "ipython3",
   "version": "3.6.5"
  }
 },
 "nbformat": 4,
 "nbformat_minor": 2
}
