{
 "cells": [
  {
   "cell_type": "markdown",
   "metadata": {},
   "source": [
    "### Hello. This notebook will be exploring some preliminary data sets.###\n",
    "**In case you're wondering, my project is going to be tracking (and predicting) breakthrough technologies by modeling technology mentions in Academic Journals, Popular Media, and Job Postings . Enjoy!**"
   ]
  },
  {
   "cell_type": "code",
   "execution_count": 28,
   "metadata": {},
   "outputs": [],
   "source": [
    "import pandas as pd\n",
    "import re\n",
    "import matplotlib.pyplot as plt\n",
    "%matplotlib inline"
   ]
  },
  {
   "cell_type": "markdown",
   "metadata": {},
   "source": [
    "**In this preliminary exploration I will only be looking at mentions of \"Machine Learning\" or \"ML\"**"
   ]
  },
  {
   "cell_type": "code",
   "execution_count": 2,
   "metadata": {},
   "outputs": [],
   "source": [
    "# The first prelim dataset is from naukri: \n",
    "jobs= pd.read_csv('./data/NaukriJobs_kaggle/naukri_com-job_sample.csv')\n",
    "\n",
    "jobs.info()\n",
    "# I am interested in the Launch Date, the Course Title, \n",
    "\n",
    "#Have to look at the range of dates, for sampling purposes\n",
    "jobs['postdate'].sort_values()"
   ]
  },
  {
   "cell_type": "markdown",
   "metadata": {},
   "source": [
    "## Naukri Date Ranges: 1/2015 - 1/2017"
   ]
  },
  {
   "cell_type": "code",
   "execution_count": 5,
   "metadata": {},
   "outputs": [],
   "source": [
    "# Curtesy of \n",
    "#https://stackoverflow.com/questions/842856/whats-the-most-efficient-way-to-find-one-of-several-substrings-in-python\n",
    "\n",
    "def wordlist_to_regex(words):\n",
    "    escaped = map(re.escape, words)\n",
    "    combined= '|'.join(sorted(escaped, key=len, reverse=True))\n",
    "    return re.compile(combined)"
   ]
  },
  {
   "cell_type": "code",
   "execution_count": 7,
   "metadata": {},
   "outputs": [],
   "source": [
    "mlwords=[' machine learning ', \n",
    "         ' artificial intelligence ']\n",
    "myregs= wordlist_to_regex(mlwords)"
   ]
  },
  {
   "cell_type": "code",
   "execution_count": 8,
   "metadata": {},
   "outputs": [],
   "source": [
    "wordmatch_mask=[myregs.search(s.lower()) != None for s in jobs['jobdescription'] if isinstance(s, str)]"
   ]
  },
  {
   "cell_type": "code",
   "execution_count": null,
   "metadata": {
    "scrolled": true
   },
   "outputs": [],
   "source": [
    "jobs.columns"
   ]
  },
  {
   "cell_type": "code",
   "execution_count": 9,
   "metadata": {},
   "outputs": [],
   "source": [
    "# If I decide to update the schema, might include some of ^^ these as well\n",
    "mljobs=jobs.loc[wordmatch_mask,['postdate', 'jobdescription', 'jobtitle', 'skills', 'uniq_id']]"
   ]
  },
  {
   "cell_type": "code",
   "execution_count": 10,
   "metadata": {},
   "outputs": [],
   "source": [
    "#now lets turn the date to a datetime\n",
    "mljobs['postdate']= mljobs['postdate'].astype('datetime64')"
   ]
  },
  {
   "cell_type": "code",
   "execution_count": null,
   "metadata": {
    "scrolled": false
   },
   "outputs": [],
   "source": [
    "# mljobs.groupby(mljobs['postdate'].dt.day).count().plot(kind=\"bar\")\n",
    "counts= pd.DataFrame(mljobs['postdate'].value_counts(sort=False))"
   ]
  },
  {
   "cell_type": "code",
   "execution_count": null,
   "metadata": {},
   "outputs": [],
   "source": [
    "#Some visualization on what we're looking at\n",
    "plt.figure(figsize=(16, 8))\n",
    "plt.scatter(counts.index, counts)\n",
    "plt.show()"
   ]
  },
  {
   "cell_type": "markdown",
   "metadata": {},
   "source": [
    "## The Schema I want: ##\n",
    "\n",
    "**Date, id, source**"
   ]
  },
  {
   "cell_type": "code",
   "execution_count": 23,
   "metadata": {
    "scrolled": true
   },
   "outputs": [],
   "source": [
    "#pull the relavent columns into a csv called naukri.csv\n",
    "csv_df= mljobs[['postdate', 'uniq_id']]\n",
    "# csv_df.loc[:,'source']='naukri'\n",
    "csv_df=csv_df.assign(source='naukri')\n",
    "\n",
    "csv_df.to_csv('./cleaned_data/naukri.csv')"
   ]
  },
  {
   "cell_type": "code",
   "execution_count": 24,
   "metadata": {},
   "outputs": [
    {
     "name": "stdout",
     "output_type": "stream",
     "text": [
      "<class 'pandas.core.frame.DataFrame'>\n",
      "Int64Index: 174 entries, 42 to 21989\n",
      "Data columns (total 3 columns):\n",
      "postdate    174 non-null datetime64[ns]\n",
      "uniq_id     174 non-null object\n",
      "source      174 non-null object\n",
      "dtypes: datetime64[ns](1), object(2)\n",
      "memory usage: 4.1+ KB\n"
     ]
    }
   ],
   "source": [
    "csv_df.info()"
   ]
  },
  {
   "cell_type": "markdown",
   "metadata": {},
   "source": [
    "## Ok that was the first dataset. Let's try loading some more...##\n",
    "\n",
    "**The PushShift API provides a nice aggregator for Reddit, so it makes my job easy for that site!**\n"
   ]
  },
  {
   "cell_type": "code",
   "execution_count": 1,
   "metadata": {},
   "outputs": [],
   "source": [
    "import requests, json\n",
    "\n",
    "def pushshift_to_the_limit(search_term):\n",
    "    \n",
    "    '''Requires pandas, requests and json library. Aggregates mentions of search term on Reddit thru comments and submissions'''\n",
    "    \n",
    "    comment_url= \"https://api.pushshift.io/reddit/search/comment/\"\n",
    "    subm_url= \"https://api.pushshift.io/reddit/search/submission/\"\n",
    "    \n",
    "    comm_json= requests.get(f\"{comment_url}?q={search_term}&aggs=created_utc&frequency=day&size=0\")\n",
    "    subm_json= requests.get(f\"{subm_url}?q={search_term}&aggs=created_utc&frequency=day&size=0\")\n",
    "    comm_data=json.loads(comm_json.content)['aggs']['created_utc']\n",
    "    subm_data=json.loads(subm_json.content)['aggs']['created_utc'] ##Now the data are in array format\n",
    "    \n",
    "    # Organize the responses into dicts, to load to pandas\n",
    "    \n",
    "    comm_dict={\n",
    "        \"day\":[ x['key'] for x in comm_data],\n",
    "        f\"comments\":[x['doc_count'] for x in comm_data],\n",
    "    }\n",
    "    subm_dict={\n",
    "        \"day\":[ x['key'] for x in subm_data],\n",
    "        f\"submissions\":[x['doc_count'] for x in subm_data],\n",
    "    }\n",
    "    \n",
    "    comm_df= pd.DataFrame(comm_dict)\n",
    "    comm_df.day=pd.to_datetime(comm_df.day, unit='s') \n",
    "    \n",
    "    subm_df= pd.DataFrame(subm_dict)\n",
    "    subm_df.day=pd.to_datetime(subm_df.day, unit='s') \n",
    "    \n",
    "    tot_df=comm_df.merge(subm_df, on='day', how='outer').fillna(0)\n",
    "    \n",
    "    tot_df['total']=tot_df['comments']+tot_df['submissions']\n",
    "    \n",
    "    return tot_df"
   ]
  },
  {
   "cell_type": "code",
   "execution_count": 2,
   "metadata": {
    "scrolled": false
   },
   "outputs": [
    {
     "ename": "NameError",
     "evalue": "name 'pd' is not defined",
     "output_type": "error",
     "traceback": [
      "\u001b[0;31m---------------------------------------------------------------------------\u001b[0m",
      "\u001b[0;31mNameError\u001b[0m                                 Traceback (most recent call last)",
      "\u001b[0;32m<ipython-input-2-93a02835cd34>\u001b[0m in \u001b[0;36m<module>\u001b[0;34m\u001b[0m\n\u001b[0;32m----> 1\u001b[0;31m \u001b[0mvr_df\u001b[0m\u001b[0;34m=\u001b[0m\u001b[0mpushshift_to_the_limit\u001b[0m\u001b[0;34m(\u001b[0m\u001b[0;34m'virtual reality'\u001b[0m\u001b[0;34m)\u001b[0m\u001b[0;34m\u001b[0m\u001b[0m\n\u001b[0m\u001b[1;32m      2\u001b[0m \u001b[0mvr_df\u001b[0m\u001b[0;34m.\u001b[0m\u001b[0mplot\u001b[0m\u001b[0;34m(\u001b[0m\u001b[0;34m'day'\u001b[0m\u001b[0;34m,\u001b[0m \u001b[0;34m'total'\u001b[0m\u001b[0;34m)\u001b[0m\u001b[0;34m\u001b[0m\u001b[0m\n",
      "\u001b[0;32m<ipython-input-1-54815831ea06>\u001b[0m in \u001b[0;36mpushshift_to_the_limit\u001b[0;34m(search_term)\u001b[0m\n\u001b[1;32m     24\u001b[0m     }\n\u001b[1;32m     25\u001b[0m \u001b[0;34m\u001b[0m\u001b[0m\n\u001b[0;32m---> 26\u001b[0;31m     \u001b[0mcomm_df\u001b[0m\u001b[0;34m=\u001b[0m \u001b[0mpd\u001b[0m\u001b[0;34m.\u001b[0m\u001b[0mDataFrame\u001b[0m\u001b[0;34m(\u001b[0m\u001b[0mcomm_dict\u001b[0m\u001b[0;34m)\u001b[0m\u001b[0;34m\u001b[0m\u001b[0m\n\u001b[0m\u001b[1;32m     27\u001b[0m     \u001b[0mcomm_df\u001b[0m\u001b[0;34m.\u001b[0m\u001b[0mday\u001b[0m\u001b[0;34m=\u001b[0m\u001b[0mpd\u001b[0m\u001b[0;34m.\u001b[0m\u001b[0mto_datetime\u001b[0m\u001b[0;34m(\u001b[0m\u001b[0mcomm_df\u001b[0m\u001b[0;34m.\u001b[0m\u001b[0mday\u001b[0m\u001b[0;34m,\u001b[0m \u001b[0munit\u001b[0m\u001b[0;34m=\u001b[0m\u001b[0;34m's'\u001b[0m\u001b[0;34m)\u001b[0m\u001b[0;34m\u001b[0m\u001b[0m\n\u001b[1;32m     28\u001b[0m \u001b[0;34m\u001b[0m\u001b[0m\n",
      "\u001b[0;31mNameError\u001b[0m: name 'pd' is not defined"
     ]
    }
   ],
   "source": [
    "ml_df=pushshift_to_the_limit('machine learning')\n",
    "ml_df.plot('day', 'total')"
   ]
  },
  {
   "cell_type": "code",
   "execution_count": 29,
   "metadata": {
    "scrolled": false
   },
   "outputs": [
    {
     "data": {
      "text/plain": [
       "<matplotlib.axes._subplots.AxesSubplot at 0x4a2fb90>"
      ]
     },
     "execution_count": 29,
     "metadata": {},
     "output_type": "execute_result"
    },
    {
     "data": {
      "image/png": "[encoded data removed]",
      "text/plain": [
       "<Figure size 432x288 with 1 Axes>"
      ]
     },
     "metadata": {},
     "output_type": "display_data"
    }
   ],
   "source": [
    "ai_df=pushshift_to_the_limit('artificial intelligence')\n",
    "ai_df.plot('day', 'total')"
   ]
  },
  {
   "cell_type": "code",
   "execution_count": 31,
   "metadata": {},
   "outputs": [],
   "source": [
    "ai_df.to_csv('./cleaned_data/reddit_AI.csv')\n",
    "ml_df.to_csv('./cleaned_data/reddit_ML.csv')"
   ]
  },
  {
   "cell_type": "markdown",
   "metadata": {},
   "source": [
    "## Interesting to compare and contrast the two... ##\n",
    "\n",
    "**OK so we've looked (preliminarily) at Job postings and social mentions. How about academic literature?**"
   ]
  },
  {
   "cell_type": "code",
   "execution_count": null,
   "metadata": {},
   "outputs": [],
   "source": [
    "#We'll query Google Scholar via the scholarly package\n",
    "# import scholarly"
   ]
  },
  {
   "cell_type": "markdown",
   "metadata": {},
   "source": [
    "### Scratch that. [Scholarly](https://pypi.org/project/scholarly/0.2/) is a nice api, but it doesn't provide a key field, date, easily ###\n",
    "**You have to .fill() the generator it returns, which takes a long time, is expensive, and causes 403 forbidden errors quite a bit. _Note to future self: modify the source code to return date with the first call_**"
   ]
  },
  {
   "cell_type": "code",
   "execution_count": 89,
   "metadata": {},
   "outputs": [],
   "source": [
    "#instead let's focus on a nice easy-to-use api: arXiv\n",
    "import urllib\n",
    "import time\n",
    "import feedparser\n",
    "\n",
    "base_url = 'http://export.arxiv.org/api/query?'\n",
    "\n",
    "response= urllib.request.urlopen(base_url+\n",
    "                                 f'search_query=ti:%22machine+learning%22+OR+%22artificial+intelligence%22'+\n",
    "                                 '&start=0&max_results=15').read()\n"
   ]
  },
  {
   "cell_type": "code",
   "execution_count": 117,
   "metadata": {},
   "outputs": [],
   "source": [
    "feed= feedparser.parse(response)"
   ]
  },
  {
   "cell_type": "code",
   "execution_count": 141,
   "metadata": {},
   "outputs": [
    {
     "data": {
      "text/plain": [
       "18601"
      ]
     },
     "execution_count": 141,
     "metadata": {},
     "output_type": "execute_result"
    }
   ],
   "source": [
    "int(feed.feed.opensearch_totalresults)"
   ]
  },
  {
   "cell_type": "code",
   "execution_count": 94,
   "metadata": {
    "scrolled": true
   },
   "outputs": [
    {
     "name": "stdout",
     "output_type": "stream",
     "text": [
      "Results 0-20\n",
      "arxiv-id: 1611.00467v1\n",
      "Title: A Performance Survey on Stack-based and Register-based Virtual Machines\n",
      "Author: Siqi Liu\n",
      "sleeping for 3 secs\n",
      "arxiv-id: 0910.1761v1\n",
      "Title: Decomposition of forging dies for machining planning\n",
      "Author: Bernard Anselmetti\n",
      "sleeping for 3 secs\n",
      "arxiv-id: quant-ph/0508083v1\n",
      "Title: Deletion of imperfect cloned copies\n",
      "Author: Binayak. S. Choudhury\n",
      "sleeping for 3 secs\n",
      "arxiv-id: 1007.3303v1\n",
      "Title: A New Approach to Abstract Machines - Introduction to the Theory of\n",
      "  Configuration Machines\n",
      "Author: Zhaohua Luo\n",
      "sleeping for 3 secs\n",
      "arxiv-id: 1212.2686v1\n",
      "Title: Joint Training of Deep Boltzmann Machines\n",
      "Author: Yoshua Bengio\n",
      "sleeping for 3 secs\n",
      "arxiv-id: 1804.06022v1\n",
      "Title: Predicting Future Machine Failure from Machine State Using Logistic\n",
      "  Regression\n",
      "Author: Parth Nabar\n",
      "sleeping for 3 secs\n",
      "arxiv-id: quant-ph/0501176v2\n",
      "Title: Simulations of Quantum Turing Machines by Quantum Multi-Stack Machines\n",
      "Author: Daowen Qiu\n",
      "sleeping for 3 secs\n",
      "arxiv-id: 1304.0053v2\n",
      "Title: Wang's B machines are efficiently universal, as is Hasenjaeger's small\n",
      "  universal electromechanical toy\n",
      "Author: Rainer Glaschick\n",
      "sleeping for 3 secs\n",
      "arxiv-id: quant-ph/0511211v1\n",
      "Title: A Generalized Deletion Machine\n",
      "Author: Satyabrata Adhikari\n",
      "sleeping for 3 secs\n",
      "arxiv-id: 1503.03787v1\n",
      "Title: Are there intelligent Turing machines?\n",
      "Author: Norbert Bátfai\n",
      "sleeping for 3 secs\n",
      "Results 20-40\n",
      "arxiv-id: 1611.00467v1\n",
      "Title: A Performance Survey on Stack-based and Register-based Virtual Machines\n",
      "Author: Siqi Liu\n",
      "sleeping for 3 secs\n",
      "arxiv-id: 0910.1761v1\n",
      "Title: Decomposition of forging dies for machining planning\n",
      "Author: Bernard Anselmetti\n",
      "sleeping for 3 secs\n",
      "arxiv-id: quant-ph/0508083v1\n",
      "Title: Deletion of imperfect cloned copies\n",
      "Author: Binayak. S. Choudhury\n",
      "sleeping for 3 secs\n",
      "arxiv-id: 1007.3303v1\n",
      "Title: A New Approach to Abstract Machines - Introduction to the Theory of\n",
      "  Configuration Machines\n",
      "Author: Zhaohua Luo\n",
      "sleeping for 3 secs\n",
      "arxiv-id: 1212.2686v1\n",
      "Title: Joint Training of Deep Boltzmann Machines\n",
      "Author: Yoshua Bengio\n",
      "sleeping for 3 secs\n",
      "arxiv-id: 1804.06022v1\n",
      "Title: Predicting Future Machine Failure from Machine State Using Logistic\n",
      "  Regression\n",
      "Author: Parth Nabar\n",
      "sleeping for 3 secs\n",
      "arxiv-id: quant-ph/0501176v2\n",
      "Title: Simulations of Quantum Turing Machines by Quantum Multi-Stack Machines\n",
      "Author: Daowen Qiu\n",
      "sleeping for 3 secs\n",
      "arxiv-id: 1304.0053v2\n",
      "Title: Wang's B machines are efficiently universal, as is Hasenjaeger's small\n",
      "  universal electromechanical toy\n",
      "Author: Rainer Glaschick\n",
      "sleeping for 3 secs\n",
      "arxiv-id: quant-ph/0511211v1\n",
      "Title: A Generalized Deletion Machine\n",
      "Author: Satyabrata Adhikari\n",
      "sleeping for 3 secs\n",
      "arxiv-id: 1503.03787v1\n",
      "Title: Are there intelligent Turing machines?\n",
      "Author: Norbert Bátfai\n",
      "sleeping for 3 secs\n",
      "Results 40-60\n",
      "arxiv-id: 1611.00467v1\n",
      "Title: A Performance Survey on Stack-based and Register-based Virtual Machines\n",
      "Author: Siqi Liu\n",
      "sleeping for 3 secs\n",
      "arxiv-id: 0910.1761v1\n",
      "Title: Decomposition of forging dies for machining planning\n",
      "Author: Bernard Anselmetti\n",
      "sleeping for 3 secs\n",
      "arxiv-id: quant-ph/0508083v1\n",
      "Title: Deletion of imperfect cloned copies\n",
      "Author: Binayak. S. Choudhury\n",
      "sleeping for 3 secs\n",
      "arxiv-id: 1007.3303v1\n",
      "Title: A New Approach to Abstract Machines - Introduction to the Theory of\n",
      "  Configuration Machines\n",
      "Author: Zhaohua Luo\n",
      "sleeping for 3 secs\n",
      "arxiv-id: 1212.2686v1\n",
      "Title: Joint Training of Deep Boltzmann Machines\n",
      "Author: Yoshua Bengio\n",
      "sleeping for 3 secs\n",
      "arxiv-id: 1804.06022v1\n",
      "Title: Predicting Future Machine Failure from Machine State Using Logistic\n",
      "  Regression\n",
      "Author: Parth Nabar\n",
      "sleeping for 3 secs\n",
      "arxiv-id: quant-ph/0501176v2\n",
      "Title: Simulations of Quantum Turing Machines by Quantum Multi-Stack Machines\n",
      "Author: Daowen Qiu\n",
      "sleeping for 3 secs\n",
      "arxiv-id: 1304.0053v2\n",
      "Title: Wang's B machines are efficiently universal, as is Hasenjaeger's small\n",
      "  universal electromechanical toy\n",
      "Author: Rainer Glaschick\n",
      "sleeping for 3 secs\n",
      "arxiv-id: quant-ph/0511211v1\n",
      "Title: A Generalized Deletion Machine\n",
      "Author: Satyabrata Adhikari\n",
      "sleeping for 3 secs\n",
      "arxiv-id: 1503.03787v1\n",
      "Title: Are there intelligent Turing machines?\n",
      "Author: Norbert Bátfai\n",
      "sleeping for 3 secs\n",
      "Results 60-80\n",
      "arxiv-id: 1611.00467v1\n",
      "Title: A Performance Survey on Stack-based and Register-based Virtual Machines\n",
      "Author: Siqi Liu\n",
      "sleeping for 3 secs\n",
      "arxiv-id: 0910.1761v1\n",
      "Title: Decomposition of forging dies for machining planning\n",
      "Author: Bernard Anselmetti\n",
      "sleeping for 3 secs\n",
      "arxiv-id: quant-ph/0508083v1\n",
      "Title: Deletion of imperfect cloned copies\n",
      "Author: Binayak. S. Choudhury\n",
      "sleeping for 3 secs\n",
      "arxiv-id: 1007.3303v1\n",
      "Title: A New Approach to Abstract Machines - Introduction to the Theory of\n",
      "  Configuration Machines\n",
      "Author: Zhaohua Luo\n",
      "sleeping for 3 secs\n",
      "arxiv-id: 1212.2686v1\n",
      "Title: Joint Training of Deep Boltzmann Machines\n",
      "Author: Yoshua Bengio\n",
      "sleeping for 3 secs\n",
      "arxiv-id: 1804.06022v1\n",
      "Title: Predicting Future Machine Failure from Machine State Using Logistic\n",
      "  Regression\n",
      "Author: Parth Nabar\n",
      "sleeping for 3 secs\n",
      "arxiv-id: quant-ph/0501176v2\n",
      "Title: Simulations of Quantum Turing Machines by Quantum Multi-Stack Machines\n",
      "Author: Daowen Qiu\n",
      "sleeping for 3 secs\n",
      "arxiv-id: 1304.0053v2\n",
      "Title: Wang's B machines are efficiently universal, as is Hasenjaeger's small\n",
      "  universal electromechanical toy\n",
      "Author: Rainer Glaschick\n",
      "sleeping for 3 secs\n",
      "arxiv-id: quant-ph/0511211v1\n",
      "Title: A Generalized Deletion Machine\n",
      "Author: Satyabrata Adhikari\n",
      "sleeping for 3 secs\n",
      "arxiv-id: 1503.03787v1\n",
      "Title: Are there intelligent Turing machines?\n",
      "Author: Norbert Bátfai\n",
      "sleeping for 3 secs\n",
      "Results 80-100\n",
      "arxiv-id: 1611.00467v1\n",
      "Title: A Performance Survey on Stack-based and Register-based Virtual Machines\n",
      "Author: Siqi Liu\n",
      "sleeping for 3 secs\n",
      "arxiv-id: 0910.1761v1\n",
      "Title: Decomposition of forging dies for machining planning\n",
      "Author: Bernard Anselmetti\n",
      "sleeping for 3 secs\n",
      "arxiv-id: quant-ph/0508083v1\n",
      "Title: Deletion of imperfect cloned copies\n",
      "Author: Binayak. S. Choudhury\n",
      "sleeping for 3 secs\n",
      "arxiv-id: 1007.3303v1\n",
      "Title: A New Approach to Abstract Machines - Introduction to the Theory of\n",
      "  Configuration Machines\n",
      "Author: Zhaohua Luo\n",
      "sleeping for 3 secs\n",
      "arxiv-id: 1212.2686v1\n",
      "Title: Joint Training of Deep Boltzmann Machines\n",
      "Author: Yoshua Bengio\n",
      "sleeping for 3 secs\n",
      "arxiv-id: 1804.06022v1\n",
      "Title: Predicting Future Machine Failure from Machine State Using Logistic\n",
      "  Regression\n",
      "Author: Parth Nabar\n",
      "sleeping for 3 secs\n",
      "arxiv-id: quant-ph/0501176v2\n",
      "Title: Simulations of Quantum Turing Machines by Quantum Multi-Stack Machines\n",
      "Author: Daowen Qiu\n",
      "sleeping for 3 secs\n",
      "arxiv-id: 1304.0053v2\n",
      "Title: Wang's B machines are efficiently universal, as is Hasenjaeger's small\n",
      "  universal electromechanical toy\n",
      "Author: Rainer Glaschick\n",
      "sleeping for 3 secs\n",
      "arxiv-id: quant-ph/0511211v1\n",
      "Title: A Generalized Deletion Machine\n",
      "Author: Satyabrata Adhikari\n",
      "sleeping for 3 secs\n",
      "arxiv-id: 1503.03787v1\n",
      "Title: Are there intelligent Turing machines?\n",
      "Author: Norbert Bátfai\n",
      "sleeping for 3 secs\n",
      "Results 100-120\n",
      "arxiv-id: 1611.00467v1\n",
      "Title: A Performance Survey on Stack-based and Register-based Virtual Machines\n",
      "Author: Siqi Liu\n",
      "sleeping for 3 secs\n",
      "arxiv-id: 0910.1761v1\n",
      "Title: Decomposition of forging dies for machining planning\n",
      "Author: Bernard Anselmetti\n",
      "sleeping for 3 secs\n",
      "arxiv-id: quant-ph/0508083v1\n",
      "Title: Deletion of imperfect cloned copies\n",
      "Author: Binayak. S. Choudhury\n",
      "sleeping for 3 secs\n",
      "arxiv-id: 1007.3303v1\n",
      "Title: A New Approach to Abstract Machines - Introduction to the Theory of\n",
      "  Configuration Machines\n",
      "Author: Zhaohua Luo\n",
      "sleeping for 3 secs\n",
      "arxiv-id: 1212.2686v1\n",
      "Title: Joint Training of Deep Boltzmann Machines\n",
      "Author: Yoshua Bengio\n",
      "sleeping for 3 secs\n",
      "arxiv-id: 1804.06022v1\n",
      "Title: Predicting Future Machine Failure from Machine State Using Logistic\n",
      "  Regression\n",
      "Author: Parth Nabar\n",
      "sleeping for 3 secs\n",
      "arxiv-id: quant-ph/0501176v2\n",
      "Title: Simulations of Quantum Turing Machines by Quantum Multi-Stack Machines\n",
      "Author: Daowen Qiu\n",
      "sleeping for 3 secs\n",
      "arxiv-id: 1304.0053v2\n",
      "Title: Wang's B machines are efficiently universal, as is Hasenjaeger's small\n",
      "  universal electromechanical toy\n",
      "Author: Rainer Glaschick\n",
      "sleeping for 3 secs\n",
      "arxiv-id: quant-ph/0511211v1\n",
      "Title: A Generalized Deletion Machine\n",
      "Author: Satyabrata Adhikari\n",
      "sleeping for 3 secs\n",
      "arxiv-id: 1503.03787v1\n",
      "Title: Are there intelligent Turing machines?\n",
      "Author: Norbert Bátfai\n",
      "sleeping for 3 secs\n"
     ]
    },
    {
     "name": "stdout",
     "output_type": "stream",
     "text": [
      "Results 120-140\n",
      "arxiv-id: 1611.00467v1\n",
      "Title: A Performance Survey on Stack-based and Register-based Virtual Machines\n",
      "Author: Siqi Liu\n",
      "sleeping for 3 secs\n",
      "arxiv-id: 0910.1761v1\n",
      "Title: Decomposition of forging dies for machining planning\n",
      "Author: Bernard Anselmetti\n",
      "sleeping for 3 secs\n",
      "arxiv-id: quant-ph/0508083v1\n",
      "Title: Deletion of imperfect cloned copies\n",
      "Author: Binayak. S. Choudhury\n",
      "sleeping for 3 secs\n",
      "arxiv-id: 1007.3303v1\n",
      "Title: A New Approach to Abstract Machines - Introduction to the Theory of\n",
      "  Configuration Machines\n",
      "Author: Zhaohua Luo\n",
      "sleeping for 3 secs\n",
      "arxiv-id: 1212.2686v1\n",
      "Title: Joint Training of Deep Boltzmann Machines\n",
      "Author: Yoshua Bengio\n",
      "sleeping for 3 secs\n",
      "arxiv-id: 1804.06022v1\n",
      "Title: Predicting Future Machine Failure from Machine State Using Logistic\n",
      "  Regression\n",
      "Author: Parth Nabar\n",
      "sleeping for 3 secs\n",
      "arxiv-id: quant-ph/0501176v2\n",
      "Title: Simulations of Quantum Turing Machines by Quantum Multi-Stack Machines\n",
      "Author: Daowen Qiu\n",
      "sleeping for 3 secs\n",
      "arxiv-id: 1304.0053v2\n",
      "Title: Wang's B machines are efficiently universal, as is Hasenjaeger's small\n",
      "  universal electromechanical toy\n",
      "Author: Rainer Glaschick\n",
      "sleeping for 3 secs\n",
      "arxiv-id: quant-ph/0511211v1\n",
      "Title: A Generalized Deletion Machine\n",
      "Author: Satyabrata Adhikari\n",
      "sleeping for 3 secs\n",
      "arxiv-id: 1503.03787v1\n",
      "Title: Are there intelligent Turing machines?\n",
      "Author: Norbert Bátfai\n",
      "sleeping for 3 secs\n",
      "Results 140-160\n",
      "arxiv-id: 1611.00467v1\n",
      "Title: A Performance Survey on Stack-based and Register-based Virtual Machines\n",
      "Author: Siqi Liu\n",
      "sleeping for 3 secs\n",
      "arxiv-id: 0910.1761v1\n",
      "Title: Decomposition of forging dies for machining planning\n",
      "Author: Bernard Anselmetti\n",
      "sleeping for 3 secs\n",
      "arxiv-id: quant-ph/0508083v1\n",
      "Title: Deletion of imperfect cloned copies\n",
      "Author: Binayak. S. Choudhury\n",
      "sleeping for 3 secs\n",
      "arxiv-id: 1007.3303v1\n",
      "Title: A New Approach to Abstract Machines - Introduction to the Theory of\n",
      "  Configuration Machines\n",
      "Author: Zhaohua Luo\n",
      "sleeping for 3 secs\n",
      "arxiv-id: 1212.2686v1\n",
      "Title: Joint Training of Deep Boltzmann Machines\n",
      "Author: Yoshua Bengio\n",
      "sleeping for 3 secs\n",
      "arxiv-id: 1804.06022v1\n",
      "Title: Predicting Future Machine Failure from Machine State Using Logistic\n",
      "  Regression\n",
      "Author: Parth Nabar\n",
      "sleeping for 3 secs\n",
      "arxiv-id: quant-ph/0501176v2\n",
      "Title: Simulations of Quantum Turing Machines by Quantum Multi-Stack Machines\n",
      "Author: Daowen Qiu\n",
      "sleeping for 3 secs\n",
      "arxiv-id: 1304.0053v2\n",
      "Title: Wang's B machines are efficiently universal, as is Hasenjaeger's small\n",
      "  universal electromechanical toy\n",
      "Author: Rainer Glaschick\n",
      "sleeping for 3 secs\n",
      "arxiv-id: quant-ph/0511211v1\n",
      "Title: A Generalized Deletion Machine\n",
      "Author: Satyabrata Adhikari\n",
      "sleeping for 3 secs\n",
      "arxiv-id: 1503.03787v1\n",
      "Title: Are there intelligent Turing machines?\n",
      "Author: Norbert Bátfai\n",
      "sleeping for 3 secs\n",
      "Results 160-180\n",
      "arxiv-id: 1611.00467v1\n",
      "Title: A Performance Survey on Stack-based and Register-based Virtual Machines\n",
      "Author: Siqi Liu\n",
      "sleeping for 3 secs\n",
      "arxiv-id: 0910.1761v1\n",
      "Title: Decomposition of forging dies for machining planning\n",
      "Author: Bernard Anselmetti\n",
      "sleeping for 3 secs\n",
      "arxiv-id: quant-ph/0508083v1\n",
      "Title: Deletion of imperfect cloned copies\n",
      "Author: Binayak. S. Choudhury\n",
      "sleeping for 3 secs\n",
      "arxiv-id: 1007.3303v1\n",
      "Title: A New Approach to Abstract Machines - Introduction to the Theory of\n",
      "  Configuration Machines\n",
      "Author: Zhaohua Luo\n",
      "sleeping for 3 secs\n",
      "arxiv-id: 1212.2686v1\n",
      "Title: Joint Training of Deep Boltzmann Machines\n",
      "Author: Yoshua Bengio\n",
      "sleeping for 3 secs\n",
      "arxiv-id: 1804.06022v1\n",
      "Title: Predicting Future Machine Failure from Machine State Using Logistic\n",
      "  Regression\n",
      "Author: Parth Nabar\n",
      "sleeping for 3 secs\n",
      "arxiv-id: quant-ph/0501176v2\n",
      "Title: Simulations of Quantum Turing Machines by Quantum Multi-Stack Machines\n",
      "Author: Daowen Qiu\n",
      "sleeping for 3 secs\n",
      "arxiv-id: 1304.0053v2\n",
      "Title: Wang's B machines are efficiently universal, as is Hasenjaeger's small\n",
      "  universal electromechanical toy\n",
      "Author: Rainer Glaschick\n",
      "sleeping for 3 secs\n",
      "arxiv-id: quant-ph/0511211v1\n",
      "Title: A Generalized Deletion Machine\n",
      "Author: Satyabrata Adhikari\n",
      "sleeping for 3 secs\n",
      "arxiv-id: 1503.03787v1\n",
      "Title: Are there intelligent Turing machines?\n",
      "Author: Norbert Bátfai\n",
      "sleeping for 3 secs\n",
      "Results 180-200\n",
      "arxiv-id: 1611.00467v1\n",
      "Title: A Performance Survey on Stack-based and Register-based Virtual Machines\n",
      "Author: Siqi Liu\n",
      "sleeping for 3 secs\n",
      "arxiv-id: 0910.1761v1\n",
      "Title: Decomposition of forging dies for machining planning\n",
      "Author: Bernard Anselmetti\n",
      "sleeping for 3 secs\n",
      "arxiv-id: quant-ph/0508083v1\n",
      "Title: Deletion of imperfect cloned copies\n",
      "Author: Binayak. S. Choudhury\n",
      "sleeping for 3 secs\n",
      "arxiv-id: 1007.3303v1\n",
      "Title: A New Approach to Abstract Machines - Introduction to the Theory of\n",
      "  Configuration Machines\n",
      "Author: Zhaohua Luo\n",
      "sleeping for 3 secs\n",
      "arxiv-id: 1212.2686v1\n",
      "Title: Joint Training of Deep Boltzmann Machines\n",
      "Author: Yoshua Bengio\n",
      "sleeping for 3 secs\n",
      "arxiv-id: 1804.06022v1\n",
      "Title: Predicting Future Machine Failure from Machine State Using Logistic\n",
      "  Regression\n",
      "Author: Parth Nabar\n",
      "sleeping for 3 secs\n",
      "arxiv-id: quant-ph/0501176v2\n",
      "Title: Simulations of Quantum Turing Machines by Quantum Multi-Stack Machines\n",
      "Author: Daowen Qiu\n",
      "sleeping for 3 secs\n",
      "arxiv-id: 1304.0053v2\n",
      "Title: Wang's B machines are efficiently universal, as is Hasenjaeger's small\n",
      "  universal electromechanical toy\n",
      "Author: Rainer Glaschick\n",
      "sleeping for 3 secs\n",
      "arxiv-id: quant-ph/0511211v1\n",
      "Title: A Generalized Deletion Machine\n",
      "Author: Satyabrata Adhikari\n",
      "sleeping for 3 secs\n",
      "arxiv-id: 1503.03787v1\n",
      "Title: Are there intelligent Turing machines?\n",
      "Author: Norbert Bátfai\n",
      "sleeping for 3 secs\n"
     ]
    }
   ],
   "source": [
    "search_query='all:machine learning'\n",
    "start=0\n",
    "total_results= 200\n",
    "results_per_iteration= 20\n",
    "wait_time = 3\n",
    "\n",
    "for i in range(start, total_results, results_per_iteration):\n",
    "    print(f\"Results {i}-{i + results_per_iteration}\")\n",
    "    \n",
    "    query= f'search_query={search_query}&start={i}&max_results={results_per_iteration}'\n",
    "    \n",
    "    response= urllib.request.urlopen(base_url+query).read()\n",
    "    \n",
    "    feed= feedparser.parse(response)\n",
    "    \n",
    "    for entry in feed.entries:\n",
    "        print(f\"arxiv-id: {entry.id.split('/abs/')[-1]}\")\n",
    "        print(f\"Title: {entry.title}\")\n",
    "        print(f\"Author: {entry.author}\")\n",
    "        \n",
    "    print('sleeping for 3 secs')\n",
    "    time.sleep(wait_time)"
   ]
  },
  {
   "cell_type": "code",
   "execution_count": 222,
   "metadata": {},
   "outputs": [],
   "source": [
    "def arx_and_recreation(search_term, start_idx, scope='ti'):\n",
    "    '''uses urllib, time, and feedparser'''\n",
    "    #first escape search terms\n",
    "    search_term= search_term.replace('\"',\"%22\").replace(\" \", \"+\");\n",
    "    # set wait time and iteration step\n",
    "    iterstep= 200;\n",
    "#     wait_time= .25 #make this 3 to 'play nice' with the api. I am nice I promise! but impatient atm\n",
    "    base_url = 'http://export.arxiv.org/api/query?'\n",
    "    start= start_idx\n",
    "    date_dict={\n",
    "        \"date\":[],\n",
    "        \"article_id\": [],\n",
    "        \"source\": \"arXiv\"\n",
    "    }\n",
    "    while True:\n",
    "        response= urllib.request.urlopen(base_url+f\"search_query={scope}:{search_term}&sortBy=submittedDate&sortOrder=ascending&start={start}&max_results={iterstep}\")\n",
    "        feed= feedparser.parse(response)\n",
    "        if not feed.entries:\n",
    "            print('query complete')\n",
    "            print(f\"There should be {feed.feed.opensearch_totalresults} results?\")\n",
    "            break\n",
    "        date_dict['date'].extend([entry.published for entry in feed.entries])\n",
    "        date_dict['article_id'].extend([entry.id.split('/abs/')[-1] for entry in feed.entries])\n",
    "        print(f\"gathering results {start} to {start + iterstep-1} \")\n",
    "        start = start + iterstep\n",
    "#         time.sleep(wait_time)\n",
    "        \n",
    "    return pd.DataFrame(date_dict)\n",
    "        \n",
    "    "
   ]
  },
  {
   "cell_type": "markdown",
   "metadata": {},
   "source": [
    "### You can't see it but I did a very manual collection of articles (for some reason the api wasn't playing nice >_>) ###"
   ]
  },
  {
   "cell_type": "code",
   "execution_count": 235,
   "metadata": {
    "scrolled": true
   },
   "outputs": [
    {
     "name": "stdout",
     "output_type": "stream",
     "text": [
      "gathering results 18200 to 18399 \n",
      "gathering results 18400 to 18599 \n",
      "gathering results 18600 to 18799 \n",
      "query complete\n",
      "There should be 18601 results?\n"
     ]
    }
   ],
   "source": [
    "arx_df11= arx_and_recreation('\"machine learning\" OR \"artificial intelligence\"', 18200)\n",
    "\n",
    "arx_df11.head()\n",
    "\n",
    "arx_df11.to_csv('./cleaned_data/arXiv_ml_and_ai11.csv')"
   ]
  },
  {
   "cell_type": "code",
   "execution_count": 238,
   "metadata": {},
   "outputs": [],
   "source": [
    "arx_df11.date=pd.to_datetime(arx_df11.date)#groupby(arx_df11.date.dt.date)"
   ]
  },
  {
   "cell_type": "code",
   "execution_count": 241,
   "metadata": {},
   "outputs": [],
   "source": [
    "counts=arx_df11.groupby(arx_df11.date.dt.date).count()"
   ]
  },
  {
   "cell_type": "code",
   "execution_count": 242,
   "metadata": {
    "scrolled": true
   },
   "outputs": [
    {
     "data": {
      "text/plain": [
       "<matplotlib.axes._subplots.AxesSubplot at 0xefb7d0>"
      ]
     },
     "execution_count": 242,
     "metadata": {},
     "output_type": "execute_result"
    },
    {
     "data": {
      "image/png": "[encoded data removed]",
      "text/plain": [
       "<Figure size 432x288 with 1 Axes>"
      ]
     },
     "metadata": {},
     "output_type": "display_data"
    }
   ],
   "source": [
    "counts.plot()"
   ]
  },
  {
   "cell_type": "code",
   "execution_count": 14,
   "metadata": {},
   "outputs": [],
   "source": [
    "import glob\n",
    "\n",
    "glob.glob('./cleaned_data/shell_test/*.csv')\n",
    "\n",
    "def concatenate(indir= './cleaned_data/arXiv*.csv', outfile='./cleaned_data/combined_arX.csv'):\n",
    "    df_list=[]\n",
    "    for file in glob.glob(indir):\n",
    "        print(file)\n",
    "        df= pd.read_csv(file)\n",
    "        df_list.append(df)\n",
    "    concatDf= pd.concat(df_list, axis=0);\n",
    "    concatDf.to_csv(outfile)\n",
    "    \n",
    "\n",
    "# concatenate()"
   ]
  },
  {
   "cell_type": "code",
   "execution_count": 15,
   "metadata": {},
   "outputs": [],
   "source": [
    "arx_df= pd.read_csv('./cleaned_data/combined_arX.csv')"
   ]
  },
  {
   "cell_type": "code",
   "execution_count": 18,
   "metadata": {},
   "outputs": [],
   "source": [
    "arx_df=arx_df.drop(['Unnamed: 0', 'Unnamed: 0.1'], axis=1)"
   ]
  },
  {
   "cell_type": "code",
   "execution_count": 20,
   "metadata": {},
   "outputs": [],
   "source": [
    "arx_df.date= pd.to_datetime(arx_df.date)"
   ]
  },
  {
   "cell_type": "code",
   "execution_count": 25,
   "metadata": {},
   "outputs": [],
   "source": [
    "counts=arx_df.groupby(arx_df.date.dt.year).count()"
   ]
  },
  {
   "cell_type": "code",
   "execution_count": 29,
   "metadata": {},
   "outputs": [
    {
     "data": {
      "text/plain": [
       "<matplotlib.axes._subplots.AxesSubplot at 0x11a65070>"
      ]
     },
     "execution_count": 29,
     "metadata": {},
     "output_type": "execute_result"
    },
    {
     "data": {
      "image/png": "[encoded data removed]",
      "text/plain": [
       "<Figure size 432x288 with 1 Axes>"
      ]
     },
     "metadata": {},
     "output_type": "display_data"
    }
   ],
   "source": [
    "counts.plot()"
   ]
  }
 ],
 "metadata": {
  "kernelspec": {
   "display_name": "Python 3",
   "language": "python",
   "name": "python3"
  },
  "language_info": {
   "codemirror_mode": {
    "name": "ipython",
    "version": 3
   },
   "file_extension": ".py",
   "mimetype": "text/x-python",
   "name": "python",
   "nbconvert_exporter": "python",
   "pygments_lexer": "ipython3",
   "version": "3.6.5"
  }
 },
 "nbformat": 4,
 "nbformat_minor": 2
}
